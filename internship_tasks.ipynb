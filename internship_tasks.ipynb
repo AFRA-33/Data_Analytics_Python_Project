{
 "cells": [
  {
   "cell_type": "markdown",
   "id": "b77c5d82-c1f8-441e-a51f-dda3b8fc9704",
   "metadata": {},
   "source": [
    "# ***Import Libraries & Data***"
   ]
  },
  {
   "cell_type": "code",
   "execution_count": 2,
   "id": "2847d7f1-b277-44b1-8207-99dc80ba5ffa",
   "metadata": {},
   "outputs": [],
   "source": [
    "import numpy as np \n",
    "import pandas as pd \n",
    "import matplotlib.pyplot as plt # visualizing data\n",
    "%matplotlib inline\n",
    "import seaborn as sns"
   ]
  },
  {
   "cell_type": "code",
   "execution_count": 3,
   "id": "dc69c2d1-36ec-4cbc-a8b3-e84f65244c83",
   "metadata": {},
   "outputs": [
    {
     "data": {
      "text/html": [
       "<div>\n",
       "<style scoped>\n",
       "    .dataframe tbody tr th:only-of-type {\n",
       "        vertical-align: middle;\n",
       "    }\n",
       "\n",
       "    .dataframe tbody tr th {\n",
       "        vertical-align: top;\n",
       "    }\n",
       "\n",
       "    .dataframe thead th {\n",
       "        text-align: right;\n",
       "    }\n",
       "</style>\n",
       "<table border=\"1\" class=\"dataframe\">\n",
       "  <thead>\n",
       "    <tr style=\"text-align: right;\">\n",
       "      <th></th>\n",
       "      <th>Restaurant ID</th>\n",
       "      <th>Restaurant Name</th>\n",
       "      <th>Country Code</th>\n",
       "      <th>City</th>\n",
       "      <th>Address</th>\n",
       "      <th>Locality</th>\n",
       "      <th>Locality Verbose</th>\n",
       "      <th>Longitude</th>\n",
       "      <th>Latitude</th>\n",
       "      <th>Cuisines</th>\n",
       "      <th>...</th>\n",
       "      <th>Currency</th>\n",
       "      <th>Has Table booking</th>\n",
       "      <th>Has Online delivery</th>\n",
       "      <th>Is delivering now</th>\n",
       "      <th>Switch to order menu</th>\n",
       "      <th>Price range</th>\n",
       "      <th>Aggregate rating</th>\n",
       "      <th>Rating color</th>\n",
       "      <th>Rating text</th>\n",
       "      <th>Votes</th>\n",
       "    </tr>\n",
       "  </thead>\n",
       "  <tbody>\n",
       "    <tr>\n",
       "      <th>0</th>\n",
       "      <td>6317637</td>\n",
       "      <td>Le Petit Souffle</td>\n",
       "      <td>162</td>\n",
       "      <td>Makati City</td>\n",
       "      <td>Third Floor, Century City Mall, Kalayaan Avenu...</td>\n",
       "      <td>Century City Mall, Poblacion, Makati City</td>\n",
       "      <td>Century City Mall, Poblacion, Makati City, Mak...</td>\n",
       "      <td>121.027535</td>\n",
       "      <td>14.565443</td>\n",
       "      <td>French, Japanese, Desserts</td>\n",
       "      <td>...</td>\n",
       "      <td>Botswana Pula(P)</td>\n",
       "      <td>Yes</td>\n",
       "      <td>No</td>\n",
       "      <td>No</td>\n",
       "      <td>No</td>\n",
       "      <td>3</td>\n",
       "      <td>4.8</td>\n",
       "      <td>Dark Green</td>\n",
       "      <td>Excellent</td>\n",
       "      <td>314</td>\n",
       "    </tr>\n",
       "    <tr>\n",
       "      <th>1</th>\n",
       "      <td>6304287</td>\n",
       "      <td>Izakaya Kikufuji</td>\n",
       "      <td>162</td>\n",
       "      <td>Makati City</td>\n",
       "      <td>Little Tokyo, 2277 Chino Roces Avenue, Legaspi...</td>\n",
       "      <td>Little Tokyo, Legaspi Village, Makati City</td>\n",
       "      <td>Little Tokyo, Legaspi Village, Makati City, Ma...</td>\n",
       "      <td>121.014101</td>\n",
       "      <td>14.553708</td>\n",
       "      <td>Japanese</td>\n",
       "      <td>...</td>\n",
       "      <td>Botswana Pula(P)</td>\n",
       "      <td>Yes</td>\n",
       "      <td>No</td>\n",
       "      <td>No</td>\n",
       "      <td>No</td>\n",
       "      <td>3</td>\n",
       "      <td>4.5</td>\n",
       "      <td>Dark Green</td>\n",
       "      <td>Excellent</td>\n",
       "      <td>591</td>\n",
       "    </tr>\n",
       "    <tr>\n",
       "      <th>2</th>\n",
       "      <td>6300002</td>\n",
       "      <td>Heat - Edsa Shangri-La</td>\n",
       "      <td>162</td>\n",
       "      <td>Mandaluyong City</td>\n",
       "      <td>Edsa Shangri-La, 1 Garden Way, Ortigas, Mandal...</td>\n",
       "      <td>Edsa Shangri-La, Ortigas, Mandaluyong City</td>\n",
       "      <td>Edsa Shangri-La, Ortigas, Mandaluyong City, Ma...</td>\n",
       "      <td>121.056831</td>\n",
       "      <td>14.581404</td>\n",
       "      <td>Seafood, Asian, Filipino, Indian</td>\n",
       "      <td>...</td>\n",
       "      <td>Botswana Pula(P)</td>\n",
       "      <td>Yes</td>\n",
       "      <td>No</td>\n",
       "      <td>No</td>\n",
       "      <td>No</td>\n",
       "      <td>4</td>\n",
       "      <td>4.4</td>\n",
       "      <td>Green</td>\n",
       "      <td>Very Good</td>\n",
       "      <td>270</td>\n",
       "    </tr>\n",
       "    <tr>\n",
       "      <th>3</th>\n",
       "      <td>6318506</td>\n",
       "      <td>Ooma</td>\n",
       "      <td>162</td>\n",
       "      <td>Mandaluyong City</td>\n",
       "      <td>Third Floor, Mega Fashion Hall, SM Megamall, O...</td>\n",
       "      <td>SM Megamall, Ortigas, Mandaluyong City</td>\n",
       "      <td>SM Megamall, Ortigas, Mandaluyong City, Mandal...</td>\n",
       "      <td>121.056475</td>\n",
       "      <td>14.585318</td>\n",
       "      <td>Japanese, Sushi</td>\n",
       "      <td>...</td>\n",
       "      <td>Botswana Pula(P)</td>\n",
       "      <td>No</td>\n",
       "      <td>No</td>\n",
       "      <td>No</td>\n",
       "      <td>No</td>\n",
       "      <td>4</td>\n",
       "      <td>4.9</td>\n",
       "      <td>Dark Green</td>\n",
       "      <td>Excellent</td>\n",
       "      <td>365</td>\n",
       "    </tr>\n",
       "    <tr>\n",
       "      <th>4</th>\n",
       "      <td>6314302</td>\n",
       "      <td>Sambo Kojin</td>\n",
       "      <td>162</td>\n",
       "      <td>Mandaluyong City</td>\n",
       "      <td>Third Floor, Mega Atrium, SM Megamall, Ortigas...</td>\n",
       "      <td>SM Megamall, Ortigas, Mandaluyong City</td>\n",
       "      <td>SM Megamall, Ortigas, Mandaluyong City, Mandal...</td>\n",
       "      <td>121.057508</td>\n",
       "      <td>14.584450</td>\n",
       "      <td>Japanese, Korean</td>\n",
       "      <td>...</td>\n",
       "      <td>Botswana Pula(P)</td>\n",
       "      <td>Yes</td>\n",
       "      <td>No</td>\n",
       "      <td>No</td>\n",
       "      <td>No</td>\n",
       "      <td>4</td>\n",
       "      <td>4.8</td>\n",
       "      <td>Dark Green</td>\n",
       "      <td>Excellent</td>\n",
       "      <td>229</td>\n",
       "    </tr>\n",
       "    <tr>\n",
       "      <th>...</th>\n",
       "      <td>...</td>\n",
       "      <td>...</td>\n",
       "      <td>...</td>\n",
       "      <td>...</td>\n",
       "      <td>...</td>\n",
       "      <td>...</td>\n",
       "      <td>...</td>\n",
       "      <td>...</td>\n",
       "      <td>...</td>\n",
       "      <td>...</td>\n",
       "      <td>...</td>\n",
       "      <td>...</td>\n",
       "      <td>...</td>\n",
       "      <td>...</td>\n",
       "      <td>...</td>\n",
       "      <td>...</td>\n",
       "      <td>...</td>\n",
       "      <td>...</td>\n",
       "      <td>...</td>\n",
       "      <td>...</td>\n",
       "      <td>...</td>\n",
       "    </tr>\n",
       "    <tr>\n",
       "      <th>9546</th>\n",
       "      <td>5915730</td>\n",
       "      <td>Naml? Gurme</td>\n",
       "      <td>208</td>\n",
       "      <td>??stanbul</td>\n",
       "      <td>Kemanke?? Karamustafa Pa??a Mahallesi, R?ht?m ...</td>\n",
       "      <td>Karak?_y</td>\n",
       "      <td>Karak?_y, ??stanbul</td>\n",
       "      <td>28.977392</td>\n",
       "      <td>41.022793</td>\n",
       "      <td>Turkish</td>\n",
       "      <td>...</td>\n",
       "      <td>Turkish Lira(TL)</td>\n",
       "      <td>No</td>\n",
       "      <td>No</td>\n",
       "      <td>No</td>\n",
       "      <td>No</td>\n",
       "      <td>3</td>\n",
       "      <td>4.1</td>\n",
       "      <td>Green</td>\n",
       "      <td>Very Good</td>\n",
       "      <td>788</td>\n",
       "    </tr>\n",
       "    <tr>\n",
       "      <th>9547</th>\n",
       "      <td>5908749</td>\n",
       "      <td>Ceviz A??ac?</td>\n",
       "      <td>208</td>\n",
       "      <td>??stanbul</td>\n",
       "      <td>Ko??uyolu Mahallesi, Muhittin ??st?_nda?? Cadd...</td>\n",
       "      <td>Ko??uyolu</td>\n",
       "      <td>Ko??uyolu, ??stanbul</td>\n",
       "      <td>29.041297</td>\n",
       "      <td>41.009847</td>\n",
       "      <td>World Cuisine, Patisserie, Cafe</td>\n",
       "      <td>...</td>\n",
       "      <td>Turkish Lira(TL)</td>\n",
       "      <td>No</td>\n",
       "      <td>No</td>\n",
       "      <td>No</td>\n",
       "      <td>No</td>\n",
       "      <td>3</td>\n",
       "      <td>4.2</td>\n",
       "      <td>Green</td>\n",
       "      <td>Very Good</td>\n",
       "      <td>1034</td>\n",
       "    </tr>\n",
       "    <tr>\n",
       "      <th>9548</th>\n",
       "      <td>5915807</td>\n",
       "      <td>Huqqa</td>\n",
       "      <td>208</td>\n",
       "      <td>??stanbul</td>\n",
       "      <td>Kuru?_e??me Mahallesi, Muallim Naci Caddesi, N...</td>\n",
       "      <td>Kuru?_e??me</td>\n",
       "      <td>Kuru?_e??me, ??stanbul</td>\n",
       "      <td>29.034640</td>\n",
       "      <td>41.055817</td>\n",
       "      <td>Italian, World Cuisine</td>\n",
       "      <td>...</td>\n",
       "      <td>Turkish Lira(TL)</td>\n",
       "      <td>No</td>\n",
       "      <td>No</td>\n",
       "      <td>No</td>\n",
       "      <td>No</td>\n",
       "      <td>4</td>\n",
       "      <td>3.7</td>\n",
       "      <td>Yellow</td>\n",
       "      <td>Good</td>\n",
       "      <td>661</td>\n",
       "    </tr>\n",
       "    <tr>\n",
       "      <th>9549</th>\n",
       "      <td>5916112</td>\n",
       "      <td>A???k Kahve</td>\n",
       "      <td>208</td>\n",
       "      <td>??stanbul</td>\n",
       "      <td>Kuru?_e??me Mahallesi, Muallim Naci Caddesi, N...</td>\n",
       "      <td>Kuru?_e??me</td>\n",
       "      <td>Kuru?_e??me, ??stanbul</td>\n",
       "      <td>29.036019</td>\n",
       "      <td>41.057979</td>\n",
       "      <td>Restaurant Cafe</td>\n",
       "      <td>...</td>\n",
       "      <td>Turkish Lira(TL)</td>\n",
       "      <td>No</td>\n",
       "      <td>No</td>\n",
       "      <td>No</td>\n",
       "      <td>No</td>\n",
       "      <td>4</td>\n",
       "      <td>4.0</td>\n",
       "      <td>Green</td>\n",
       "      <td>Very Good</td>\n",
       "      <td>901</td>\n",
       "    </tr>\n",
       "    <tr>\n",
       "      <th>9550</th>\n",
       "      <td>5927402</td>\n",
       "      <td>Walter's Coffee Roastery</td>\n",
       "      <td>208</td>\n",
       "      <td>??stanbul</td>\n",
       "      <td>Cafea??a Mahallesi, Bademalt? Sokak, No 21/B, ...</td>\n",
       "      <td>Moda</td>\n",
       "      <td>Moda, ??stanbul</td>\n",
       "      <td>29.026016</td>\n",
       "      <td>40.984776</td>\n",
       "      <td>Cafe</td>\n",
       "      <td>...</td>\n",
       "      <td>Turkish Lira(TL)</td>\n",
       "      <td>No</td>\n",
       "      <td>No</td>\n",
       "      <td>No</td>\n",
       "      <td>No</td>\n",
       "      <td>2</td>\n",
       "      <td>4.0</td>\n",
       "      <td>Green</td>\n",
       "      <td>Very Good</td>\n",
       "      <td>591</td>\n",
       "    </tr>\n",
       "  </tbody>\n",
       "</table>\n",
       "<p>9551 rows × 21 columns</p>\n",
       "</div>"
      ],
      "text/plain": [
       "      Restaurant ID           Restaurant Name  Country Code              City  \\\n",
       "0           6317637          Le Petit Souffle           162       Makati City   \n",
       "1           6304287          Izakaya Kikufuji           162       Makati City   \n",
       "2           6300002    Heat - Edsa Shangri-La           162  Mandaluyong City   \n",
       "3           6318506                      Ooma           162  Mandaluyong City   \n",
       "4           6314302               Sambo Kojin           162  Mandaluyong City   \n",
       "...             ...                       ...           ...               ...   \n",
       "9546        5915730               Naml? Gurme           208         ??stanbul   \n",
       "9547        5908749              Ceviz A??ac?           208         ??stanbul   \n",
       "9548        5915807                     Huqqa           208         ??stanbul   \n",
       "9549        5916112               A???k Kahve           208         ??stanbul   \n",
       "9550        5927402  Walter's Coffee Roastery           208         ??stanbul   \n",
       "\n",
       "                                                Address  \\\n",
       "0     Third Floor, Century City Mall, Kalayaan Avenu...   \n",
       "1     Little Tokyo, 2277 Chino Roces Avenue, Legaspi...   \n",
       "2     Edsa Shangri-La, 1 Garden Way, Ortigas, Mandal...   \n",
       "3     Third Floor, Mega Fashion Hall, SM Megamall, O...   \n",
       "4     Third Floor, Mega Atrium, SM Megamall, Ortigas...   \n",
       "...                                                 ...   \n",
       "9546  Kemanke?? Karamustafa Pa??a Mahallesi, R?ht?m ...   \n",
       "9547  Ko??uyolu Mahallesi, Muhittin ??st?_nda?? Cadd...   \n",
       "9548  Kuru?_e??me Mahallesi, Muallim Naci Caddesi, N...   \n",
       "9549  Kuru?_e??me Mahallesi, Muallim Naci Caddesi, N...   \n",
       "9550  Cafea??a Mahallesi, Bademalt? Sokak, No 21/B, ...   \n",
       "\n",
       "                                        Locality  \\\n",
       "0      Century City Mall, Poblacion, Makati City   \n",
       "1     Little Tokyo, Legaspi Village, Makati City   \n",
       "2     Edsa Shangri-La, Ortigas, Mandaluyong City   \n",
       "3         SM Megamall, Ortigas, Mandaluyong City   \n",
       "4         SM Megamall, Ortigas, Mandaluyong City   \n",
       "...                                          ...   \n",
       "9546                                    Karak?_y   \n",
       "9547                                   Ko??uyolu   \n",
       "9548                                 Kuru?_e??me   \n",
       "9549                                 Kuru?_e??me   \n",
       "9550                                        Moda   \n",
       "\n",
       "                                       Locality Verbose   Longitude  \\\n",
       "0     Century City Mall, Poblacion, Makati City, Mak...  121.027535   \n",
       "1     Little Tokyo, Legaspi Village, Makati City, Ma...  121.014101   \n",
       "2     Edsa Shangri-La, Ortigas, Mandaluyong City, Ma...  121.056831   \n",
       "3     SM Megamall, Ortigas, Mandaluyong City, Mandal...  121.056475   \n",
       "4     SM Megamall, Ortigas, Mandaluyong City, Mandal...  121.057508   \n",
       "...                                                 ...         ...   \n",
       "9546                                Karak?_y, ??stanbul   28.977392   \n",
       "9547                               Ko??uyolu, ??stanbul   29.041297   \n",
       "9548                             Kuru?_e??me, ??stanbul   29.034640   \n",
       "9549                             Kuru?_e??me, ??stanbul   29.036019   \n",
       "9550                                    Moda, ??stanbul   29.026016   \n",
       "\n",
       "       Latitude                          Cuisines  ...          Currency  \\\n",
       "0     14.565443        French, Japanese, Desserts  ...  Botswana Pula(P)   \n",
       "1     14.553708                          Japanese  ...  Botswana Pula(P)   \n",
       "2     14.581404  Seafood, Asian, Filipino, Indian  ...  Botswana Pula(P)   \n",
       "3     14.585318                   Japanese, Sushi  ...  Botswana Pula(P)   \n",
       "4     14.584450                  Japanese, Korean  ...  Botswana Pula(P)   \n",
       "...         ...                               ...  ...               ...   \n",
       "9546  41.022793                           Turkish  ...  Turkish Lira(TL)   \n",
       "9547  41.009847   World Cuisine, Patisserie, Cafe  ...  Turkish Lira(TL)   \n",
       "9548  41.055817            Italian, World Cuisine  ...  Turkish Lira(TL)   \n",
       "9549  41.057979                   Restaurant Cafe  ...  Turkish Lira(TL)   \n",
       "9550  40.984776                              Cafe  ...  Turkish Lira(TL)   \n",
       "\n",
       "     Has Table booking Has Online delivery Is delivering now  \\\n",
       "0                  Yes                  No                No   \n",
       "1                  Yes                  No                No   \n",
       "2                  Yes                  No                No   \n",
       "3                   No                  No                No   \n",
       "4                  Yes                  No                No   \n",
       "...                ...                 ...               ...   \n",
       "9546                No                  No                No   \n",
       "9547                No                  No                No   \n",
       "9548                No                  No                No   \n",
       "9549                No                  No                No   \n",
       "9550                No                  No                No   \n",
       "\n",
       "     Switch to order menu Price range  Aggregate rating  Rating color  \\\n",
       "0                      No           3               4.8    Dark Green   \n",
       "1                      No           3               4.5    Dark Green   \n",
       "2                      No           4               4.4         Green   \n",
       "3                      No           4               4.9    Dark Green   \n",
       "4                      No           4               4.8    Dark Green   \n",
       "...                   ...         ...               ...           ...   \n",
       "9546                   No           3               4.1         Green   \n",
       "9547                   No           3               4.2         Green   \n",
       "9548                   No           4               3.7        Yellow   \n",
       "9549                   No           4               4.0         Green   \n",
       "9550                   No           2               4.0         Green   \n",
       "\n",
       "     Rating text Votes  \n",
       "0      Excellent   314  \n",
       "1      Excellent   591  \n",
       "2      Very Good   270  \n",
       "3      Excellent   365  \n",
       "4      Excellent   229  \n",
       "...          ...   ...  \n",
       "9546   Very Good   788  \n",
       "9547   Very Good  1034  \n",
       "9548        Good   661  \n",
       "9549   Very Good   901  \n",
       "9550   Very Good   591  \n",
       "\n",
       "[9551 rows x 21 columns]"
      ]
     },
     "execution_count": 3,
     "metadata": {},
     "output_type": "execute_result"
    }
   ],
   "source": [
    "df= pd.read_csv('dataset.csv', encoding = 'unicode_escape')\n",
    "df"
   ]
  },
  {
   "cell_type": "markdown",
   "id": "5b765ef6-276c-4095-95ad-d9c4c94fc135",
   "metadata": {},
   "source": [
    "# ***Data Cleaning***"
   ]
  },
  {
   "cell_type": "code",
   "execution_count": 4,
   "id": "22aaa701-6103-40c3-b824-a22feb4e73b7",
   "metadata": {},
   "outputs": [
    {
     "name": "stdout",
     "output_type": "stream",
     "text": [
      "<class 'pandas.core.frame.DataFrame'>\n",
      "RangeIndex: 9551 entries, 0 to 9550\n",
      "Data columns (total 21 columns):\n",
      " #   Column                Non-Null Count  Dtype  \n",
      "---  ------                --------------  -----  \n",
      " 0   Restaurant ID         9551 non-null   int64  \n",
      " 1   Restaurant Name       9551 non-null   object \n",
      " 2   Country Code          9551 non-null   int64  \n",
      " 3   City                  9551 non-null   object \n",
      " 4   Address               9551 non-null   object \n",
      " 5   Locality              9551 non-null   object \n",
      " 6   Locality Verbose      9551 non-null   object \n",
      " 7   Longitude             9551 non-null   float64\n",
      " 8   Latitude              9551 non-null   float64\n",
      " 9   Cuisines              9542 non-null   object \n",
      " 10  Average Cost for two  9551 non-null   int64  \n",
      " 11  Currency              9551 non-null   object \n",
      " 12  Has Table booking     9551 non-null   object \n",
      " 13  Has Online delivery   9551 non-null   object \n",
      " 14  Is delivering now     9551 non-null   object \n",
      " 15  Switch to order menu  9551 non-null   object \n",
      " 16  Price range           9551 non-null   int64  \n",
      " 17  Aggregate rating      9551 non-null   float64\n",
      " 18  Rating color          9551 non-null   object \n",
      " 19  Rating text           9551 non-null   object \n",
      " 20  Votes                 9551 non-null   int64  \n",
      "dtypes: float64(3), int64(5), object(13)\n",
      "memory usage: 1.5+ MB\n"
     ]
    }
   ],
   "source": [
    "df.info()"
   ]
  },
  {
   "cell_type": "code",
   "execution_count": 5,
   "id": "ad98ac43-3c27-4a52-8f37-11d0195cfcfe",
   "metadata": {},
   "outputs": [
    {
     "data": {
      "text/html": [
       "<div>\n",
       "<style scoped>\n",
       "    .dataframe tbody tr th:only-of-type {\n",
       "        vertical-align: middle;\n",
       "    }\n",
       "\n",
       "    .dataframe tbody tr th {\n",
       "        vertical-align: top;\n",
       "    }\n",
       "\n",
       "    .dataframe thead th {\n",
       "        text-align: right;\n",
       "    }\n",
       "</style>\n",
       "<table border=\"1\" class=\"dataframe\">\n",
       "  <thead>\n",
       "    <tr style=\"text-align: right;\">\n",
       "      <th></th>\n",
       "      <th>Restaurant ID</th>\n",
       "      <th>Restaurant Name</th>\n",
       "      <th>Country Code</th>\n",
       "      <th>City</th>\n",
       "      <th>Address</th>\n",
       "      <th>Locality</th>\n",
       "      <th>Locality Verbose</th>\n",
       "      <th>Longitude</th>\n",
       "      <th>Latitude</th>\n",
       "      <th>Cuisines</th>\n",
       "      <th>...</th>\n",
       "      <th>Currency</th>\n",
       "      <th>Has Table booking</th>\n",
       "      <th>Has Online delivery</th>\n",
       "      <th>Is delivering now</th>\n",
       "      <th>Switch to order menu</th>\n",
       "      <th>Price range</th>\n",
       "      <th>Aggregate rating</th>\n",
       "      <th>Rating color</th>\n",
       "      <th>Rating text</th>\n",
       "      <th>Votes</th>\n",
       "    </tr>\n",
       "  </thead>\n",
       "  <tbody>\n",
       "    <tr>\n",
       "      <th>0</th>\n",
       "      <td>False</td>\n",
       "      <td>False</td>\n",
       "      <td>False</td>\n",
       "      <td>False</td>\n",
       "      <td>False</td>\n",
       "      <td>False</td>\n",
       "      <td>False</td>\n",
       "      <td>False</td>\n",
       "      <td>False</td>\n",
       "      <td>False</td>\n",
       "      <td>...</td>\n",
       "      <td>False</td>\n",
       "      <td>False</td>\n",
       "      <td>False</td>\n",
       "      <td>False</td>\n",
       "      <td>False</td>\n",
       "      <td>False</td>\n",
       "      <td>False</td>\n",
       "      <td>False</td>\n",
       "      <td>False</td>\n",
       "      <td>False</td>\n",
       "    </tr>\n",
       "    <tr>\n",
       "      <th>1</th>\n",
       "      <td>False</td>\n",
       "      <td>False</td>\n",
       "      <td>False</td>\n",
       "      <td>False</td>\n",
       "      <td>False</td>\n",
       "      <td>False</td>\n",
       "      <td>False</td>\n",
       "      <td>False</td>\n",
       "      <td>False</td>\n",
       "      <td>False</td>\n",
       "      <td>...</td>\n",
       "      <td>False</td>\n",
       "      <td>False</td>\n",
       "      <td>False</td>\n",
       "      <td>False</td>\n",
       "      <td>False</td>\n",
       "      <td>False</td>\n",
       "      <td>False</td>\n",
       "      <td>False</td>\n",
       "      <td>False</td>\n",
       "      <td>False</td>\n",
       "    </tr>\n",
       "    <tr>\n",
       "      <th>2</th>\n",
       "      <td>False</td>\n",
       "      <td>False</td>\n",
       "      <td>False</td>\n",
       "      <td>False</td>\n",
       "      <td>False</td>\n",
       "      <td>False</td>\n",
       "      <td>False</td>\n",
       "      <td>False</td>\n",
       "      <td>False</td>\n",
       "      <td>False</td>\n",
       "      <td>...</td>\n",
       "      <td>False</td>\n",
       "      <td>False</td>\n",
       "      <td>False</td>\n",
       "      <td>False</td>\n",
       "      <td>False</td>\n",
       "      <td>False</td>\n",
       "      <td>False</td>\n",
       "      <td>False</td>\n",
       "      <td>False</td>\n",
       "      <td>False</td>\n",
       "    </tr>\n",
       "    <tr>\n",
       "      <th>3</th>\n",
       "      <td>False</td>\n",
       "      <td>False</td>\n",
       "      <td>False</td>\n",
       "      <td>False</td>\n",
       "      <td>False</td>\n",
       "      <td>False</td>\n",
       "      <td>False</td>\n",
       "      <td>False</td>\n",
       "      <td>False</td>\n",
       "      <td>False</td>\n",
       "      <td>...</td>\n",
       "      <td>False</td>\n",
       "      <td>False</td>\n",
       "      <td>False</td>\n",
       "      <td>False</td>\n",
       "      <td>False</td>\n",
       "      <td>False</td>\n",
       "      <td>False</td>\n",
       "      <td>False</td>\n",
       "      <td>False</td>\n",
       "      <td>False</td>\n",
       "    </tr>\n",
       "    <tr>\n",
       "      <th>4</th>\n",
       "      <td>False</td>\n",
       "      <td>False</td>\n",
       "      <td>False</td>\n",
       "      <td>False</td>\n",
       "      <td>False</td>\n",
       "      <td>False</td>\n",
       "      <td>False</td>\n",
       "      <td>False</td>\n",
       "      <td>False</td>\n",
       "      <td>False</td>\n",
       "      <td>...</td>\n",
       "      <td>False</td>\n",
       "      <td>False</td>\n",
       "      <td>False</td>\n",
       "      <td>False</td>\n",
       "      <td>False</td>\n",
       "      <td>False</td>\n",
       "      <td>False</td>\n",
       "      <td>False</td>\n",
       "      <td>False</td>\n",
       "      <td>False</td>\n",
       "    </tr>\n",
       "    <tr>\n",
       "      <th>...</th>\n",
       "      <td>...</td>\n",
       "      <td>...</td>\n",
       "      <td>...</td>\n",
       "      <td>...</td>\n",
       "      <td>...</td>\n",
       "      <td>...</td>\n",
       "      <td>...</td>\n",
       "      <td>...</td>\n",
       "      <td>...</td>\n",
       "      <td>...</td>\n",
       "      <td>...</td>\n",
       "      <td>...</td>\n",
       "      <td>...</td>\n",
       "      <td>...</td>\n",
       "      <td>...</td>\n",
       "      <td>...</td>\n",
       "      <td>...</td>\n",
       "      <td>...</td>\n",
       "      <td>...</td>\n",
       "      <td>...</td>\n",
       "      <td>...</td>\n",
       "    </tr>\n",
       "    <tr>\n",
       "      <th>9546</th>\n",
       "      <td>False</td>\n",
       "      <td>False</td>\n",
       "      <td>False</td>\n",
       "      <td>False</td>\n",
       "      <td>False</td>\n",
       "      <td>False</td>\n",
       "      <td>False</td>\n",
       "      <td>False</td>\n",
       "      <td>False</td>\n",
       "      <td>False</td>\n",
       "      <td>...</td>\n",
       "      <td>False</td>\n",
       "      <td>False</td>\n",
       "      <td>False</td>\n",
       "      <td>False</td>\n",
       "      <td>False</td>\n",
       "      <td>False</td>\n",
       "      <td>False</td>\n",
       "      <td>False</td>\n",
       "      <td>False</td>\n",
       "      <td>False</td>\n",
       "    </tr>\n",
       "    <tr>\n",
       "      <th>9547</th>\n",
       "      <td>False</td>\n",
       "      <td>False</td>\n",
       "      <td>False</td>\n",
       "      <td>False</td>\n",
       "      <td>False</td>\n",
       "      <td>False</td>\n",
       "      <td>False</td>\n",
       "      <td>False</td>\n",
       "      <td>False</td>\n",
       "      <td>False</td>\n",
       "      <td>...</td>\n",
       "      <td>False</td>\n",
       "      <td>False</td>\n",
       "      <td>False</td>\n",
       "      <td>False</td>\n",
       "      <td>False</td>\n",
       "      <td>False</td>\n",
       "      <td>False</td>\n",
       "      <td>False</td>\n",
       "      <td>False</td>\n",
       "      <td>False</td>\n",
       "    </tr>\n",
       "    <tr>\n",
       "      <th>9548</th>\n",
       "      <td>False</td>\n",
       "      <td>False</td>\n",
       "      <td>False</td>\n",
       "      <td>False</td>\n",
       "      <td>False</td>\n",
       "      <td>False</td>\n",
       "      <td>False</td>\n",
       "      <td>False</td>\n",
       "      <td>False</td>\n",
       "      <td>False</td>\n",
       "      <td>...</td>\n",
       "      <td>False</td>\n",
       "      <td>False</td>\n",
       "      <td>False</td>\n",
       "      <td>False</td>\n",
       "      <td>False</td>\n",
       "      <td>False</td>\n",
       "      <td>False</td>\n",
       "      <td>False</td>\n",
       "      <td>False</td>\n",
       "      <td>False</td>\n",
       "    </tr>\n",
       "    <tr>\n",
       "      <th>9549</th>\n",
       "      <td>False</td>\n",
       "      <td>False</td>\n",
       "      <td>False</td>\n",
       "      <td>False</td>\n",
       "      <td>False</td>\n",
       "      <td>False</td>\n",
       "      <td>False</td>\n",
       "      <td>False</td>\n",
       "      <td>False</td>\n",
       "      <td>False</td>\n",
       "      <td>...</td>\n",
       "      <td>False</td>\n",
       "      <td>False</td>\n",
       "      <td>False</td>\n",
       "      <td>False</td>\n",
       "      <td>False</td>\n",
       "      <td>False</td>\n",
       "      <td>False</td>\n",
       "      <td>False</td>\n",
       "      <td>False</td>\n",
       "      <td>False</td>\n",
       "    </tr>\n",
       "    <tr>\n",
       "      <th>9550</th>\n",
       "      <td>False</td>\n",
       "      <td>False</td>\n",
       "      <td>False</td>\n",
       "      <td>False</td>\n",
       "      <td>False</td>\n",
       "      <td>False</td>\n",
       "      <td>False</td>\n",
       "      <td>False</td>\n",
       "      <td>False</td>\n",
       "      <td>False</td>\n",
       "      <td>...</td>\n",
       "      <td>False</td>\n",
       "      <td>False</td>\n",
       "      <td>False</td>\n",
       "      <td>False</td>\n",
       "      <td>False</td>\n",
       "      <td>False</td>\n",
       "      <td>False</td>\n",
       "      <td>False</td>\n",
       "      <td>False</td>\n",
       "      <td>False</td>\n",
       "    </tr>\n",
       "  </tbody>\n",
       "</table>\n",
       "<p>9551 rows × 21 columns</p>\n",
       "</div>"
      ],
      "text/plain": [
       "      Restaurant ID  Restaurant Name  Country Code   City  Address  Locality  \\\n",
       "0             False            False         False  False    False     False   \n",
       "1             False            False         False  False    False     False   \n",
       "2             False            False         False  False    False     False   \n",
       "3             False            False         False  False    False     False   \n",
       "4             False            False         False  False    False     False   \n",
       "...             ...              ...           ...    ...      ...       ...   \n",
       "9546          False            False         False  False    False     False   \n",
       "9547          False            False         False  False    False     False   \n",
       "9548          False            False         False  False    False     False   \n",
       "9549          False            False         False  False    False     False   \n",
       "9550          False            False         False  False    False     False   \n",
       "\n",
       "      Locality Verbose  Longitude  Latitude  Cuisines  ...  Currency  \\\n",
       "0                False      False     False     False  ...     False   \n",
       "1                False      False     False     False  ...     False   \n",
       "2                False      False     False     False  ...     False   \n",
       "3                False      False     False     False  ...     False   \n",
       "4                False      False     False     False  ...     False   \n",
       "...                ...        ...       ...       ...  ...       ...   \n",
       "9546             False      False     False     False  ...     False   \n",
       "9547             False      False     False     False  ...     False   \n",
       "9548             False      False     False     False  ...     False   \n",
       "9549             False      False     False     False  ...     False   \n",
       "9550             False      False     False     False  ...     False   \n",
       "\n",
       "      Has Table booking  Has Online delivery  Is delivering now  \\\n",
       "0                 False                False              False   \n",
       "1                 False                False              False   \n",
       "2                 False                False              False   \n",
       "3                 False                False              False   \n",
       "4                 False                False              False   \n",
       "...                 ...                  ...                ...   \n",
       "9546              False                False              False   \n",
       "9547              False                False              False   \n",
       "9548              False                False              False   \n",
       "9549              False                False              False   \n",
       "9550              False                False              False   \n",
       "\n",
       "      Switch to order menu  Price range  Aggregate rating  Rating color  \\\n",
       "0                    False        False             False         False   \n",
       "1                    False        False             False         False   \n",
       "2                    False        False             False         False   \n",
       "3                    False        False             False         False   \n",
       "4                    False        False             False         False   \n",
       "...                    ...          ...               ...           ...   \n",
       "9546                 False        False             False         False   \n",
       "9547                 False        False             False         False   \n",
       "9548                 False        False             False         False   \n",
       "9549                 False        False             False         False   \n",
       "9550                 False        False             False         False   \n",
       "\n",
       "      Rating text  Votes  \n",
       "0           False  False  \n",
       "1           False  False  \n",
       "2           False  False  \n",
       "3           False  False  \n",
       "4           False  False  \n",
       "...           ...    ...  \n",
       "9546        False  False  \n",
       "9547        False  False  \n",
       "9548        False  False  \n",
       "9549        False  False  \n",
       "9550        False  False  \n",
       "\n",
       "[9551 rows x 21 columns]"
      ]
     },
     "execution_count": 5,
     "metadata": {},
     "output_type": "execute_result"
    }
   ],
   "source": [
    "pd.isnull(df)"
   ]
  },
  {
   "cell_type": "code",
   "execution_count": 6,
   "id": "705c63cd-ddc9-4866-848a-8fe93f0dcc36",
   "metadata": {},
   "outputs": [
    {
     "data": {
      "text/plain": [
       "Restaurant ID           0\n",
       "Restaurant Name         0\n",
       "Country Code            0\n",
       "City                    0\n",
       "Address                 0\n",
       "Locality                0\n",
       "Locality Verbose        0\n",
       "Longitude               0\n",
       "Latitude                0\n",
       "Cuisines                9\n",
       "Average Cost for two    0\n",
       "Currency                0\n",
       "Has Table booking       0\n",
       "Has Online delivery     0\n",
       "Is delivering now       0\n",
       "Switch to order menu    0\n",
       "Price range             0\n",
       "Aggregate rating        0\n",
       "Rating color            0\n",
       "Rating text             0\n",
       "Votes                   0\n",
       "dtype: int64"
      ]
     },
     "execution_count": 6,
     "metadata": {},
     "output_type": "execute_result"
    }
   ],
   "source": [
    "pd.isnull(df).sum()"
   ]
  },
  {
   "cell_type": "code",
   "execution_count": 7,
   "id": "47ce2840-f028-4495-acd4-1392fbfb5abe",
   "metadata": {},
   "outputs": [],
   "source": [
    "df['Cuisines'] = df['Cuisines'] .fillna(\"unknown\")"
   ]
  },
  {
   "cell_type": "code",
   "execution_count": 8,
   "id": "598a66bf-6ebf-4516-b101-a3481e941b32",
   "metadata": {},
   "outputs": [
    {
     "data": {
      "text/plain": [
       "array(['French, Japanese, Desserts', 'Japanese',\n",
       "       'Seafood, Asian, Filipino, Indian', ..., 'Burger, Izgara',\n",
       "       'World Cuisine, Patisserie, Cafe', 'Italian, World Cuisine'],\n",
       "      dtype=object)"
      ]
     },
     "execution_count": 8,
     "metadata": {},
     "output_type": "execute_result"
    }
   ],
   "source": [
    "df['Cuisines'].unique()"
   ]
  },
  {
   "cell_type": "code",
   "execution_count": 9,
   "id": "b4420ecf-76f3-4291-b303-cff0830589e6",
   "metadata": {},
   "outputs": [
    {
     "data": {
      "text/plain": [
       "Restaurant ID           0\n",
       "Restaurant Name         0\n",
       "Country Code            0\n",
       "City                    0\n",
       "Address                 0\n",
       "Locality                0\n",
       "Locality Verbose        0\n",
       "Longitude               0\n",
       "Latitude                0\n",
       "Cuisines                0\n",
       "Average Cost for two    0\n",
       "Currency                0\n",
       "Has Table booking       0\n",
       "Has Online delivery     0\n",
       "Is delivering now       0\n",
       "Switch to order menu    0\n",
       "Price range             0\n",
       "Aggregate rating        0\n",
       "Rating color            0\n",
       "Rating text             0\n",
       "Votes                   0\n",
       "dtype: int64"
      ]
     },
     "execution_count": 9,
     "metadata": {},
     "output_type": "execute_result"
    }
   ],
   "source": [
    "pd.isnull(df).sum()"
   ]
  },
  {
   "cell_type": "code",
   "execution_count": 10,
   "id": "523cb349-6e2d-497f-b014-52764760dbc6",
   "metadata": {},
   "outputs": [
    {
     "data": {
      "text/plain": [
       "Index(['Restaurant ID', 'Restaurant Name', 'Country Code', 'City', 'Address',\n",
       "       'Locality', 'Locality Verbose', 'Longitude', 'Latitude', 'Cuisines',\n",
       "       'Average Cost for two', 'Currency', 'Has Table booking',\n",
       "       'Has Online delivery', 'Is delivering now', 'Switch to order menu',\n",
       "       'Price range', 'Aggregate rating', 'Rating color', 'Rating text',\n",
       "       'Votes'],\n",
       "      dtype='object')"
      ]
     },
     "execution_count": 10,
     "metadata": {},
     "output_type": "execute_result"
    }
   ],
   "source": [
    "df.columns"
   ]
  },
  {
   "cell_type": "code",
   "execution_count": 11,
   "id": "7fffe195-351c-4626-8323-6f071d451d04",
   "metadata": {},
   "outputs": [
    {
     "data": {
      "text/html": [
       "<div>\n",
       "<style scoped>\n",
       "    .dataframe tbody tr th:only-of-type {\n",
       "        vertical-align: middle;\n",
       "    }\n",
       "\n",
       "    .dataframe tbody tr th {\n",
       "        vertical-align: top;\n",
       "    }\n",
       "\n",
       "    .dataframe thead th {\n",
       "        text-align: right;\n",
       "    }\n",
       "</style>\n",
       "<table border=\"1\" class=\"dataframe\">\n",
       "  <thead>\n",
       "    <tr style=\"text-align: right;\">\n",
       "      <th></th>\n",
       "      <th>Restaurant ID</th>\n",
       "      <th>Country Code</th>\n",
       "      <th>Longitude</th>\n",
       "      <th>Latitude</th>\n",
       "      <th>Average Cost for two</th>\n",
       "      <th>Price range</th>\n",
       "      <th>Aggregate rating</th>\n",
       "      <th>Votes</th>\n",
       "    </tr>\n",
       "  </thead>\n",
       "  <tbody>\n",
       "    <tr>\n",
       "      <th>count</th>\n",
       "      <td>9.551000e+03</td>\n",
       "      <td>9551.000000</td>\n",
       "      <td>9551.000000</td>\n",
       "      <td>9551.000000</td>\n",
       "      <td>9551.000000</td>\n",
       "      <td>9551.000000</td>\n",
       "      <td>9551.000000</td>\n",
       "      <td>9551.000000</td>\n",
       "    </tr>\n",
       "    <tr>\n",
       "      <th>mean</th>\n",
       "      <td>9.051128e+06</td>\n",
       "      <td>18.365616</td>\n",
       "      <td>64.126574</td>\n",
       "      <td>25.854381</td>\n",
       "      <td>1199.210763</td>\n",
       "      <td>1.804837</td>\n",
       "      <td>2.666370</td>\n",
       "      <td>156.909748</td>\n",
       "    </tr>\n",
       "    <tr>\n",
       "      <th>std</th>\n",
       "      <td>8.791521e+06</td>\n",
       "      <td>56.750546</td>\n",
       "      <td>41.467058</td>\n",
       "      <td>11.007935</td>\n",
       "      <td>16121.183073</td>\n",
       "      <td>0.905609</td>\n",
       "      <td>1.516378</td>\n",
       "      <td>430.169145</td>\n",
       "    </tr>\n",
       "    <tr>\n",
       "      <th>min</th>\n",
       "      <td>5.300000e+01</td>\n",
       "      <td>1.000000</td>\n",
       "      <td>-157.948486</td>\n",
       "      <td>-41.330428</td>\n",
       "      <td>0.000000</td>\n",
       "      <td>1.000000</td>\n",
       "      <td>0.000000</td>\n",
       "      <td>0.000000</td>\n",
       "    </tr>\n",
       "    <tr>\n",
       "      <th>25%</th>\n",
       "      <td>3.019625e+05</td>\n",
       "      <td>1.000000</td>\n",
       "      <td>77.081343</td>\n",
       "      <td>28.478713</td>\n",
       "      <td>250.000000</td>\n",
       "      <td>1.000000</td>\n",
       "      <td>2.500000</td>\n",
       "      <td>5.000000</td>\n",
       "    </tr>\n",
       "    <tr>\n",
       "      <th>50%</th>\n",
       "      <td>6.004089e+06</td>\n",
       "      <td>1.000000</td>\n",
       "      <td>77.191964</td>\n",
       "      <td>28.570469</td>\n",
       "      <td>400.000000</td>\n",
       "      <td>2.000000</td>\n",
       "      <td>3.200000</td>\n",
       "      <td>31.000000</td>\n",
       "    </tr>\n",
       "    <tr>\n",
       "      <th>75%</th>\n",
       "      <td>1.835229e+07</td>\n",
       "      <td>1.000000</td>\n",
       "      <td>77.282006</td>\n",
       "      <td>28.642758</td>\n",
       "      <td>700.000000</td>\n",
       "      <td>2.000000</td>\n",
       "      <td>3.700000</td>\n",
       "      <td>131.000000</td>\n",
       "    </tr>\n",
       "    <tr>\n",
       "      <th>max</th>\n",
       "      <td>1.850065e+07</td>\n",
       "      <td>216.000000</td>\n",
       "      <td>174.832089</td>\n",
       "      <td>55.976980</td>\n",
       "      <td>800000.000000</td>\n",
       "      <td>4.000000</td>\n",
       "      <td>4.900000</td>\n",
       "      <td>10934.000000</td>\n",
       "    </tr>\n",
       "  </tbody>\n",
       "</table>\n",
       "</div>"
      ],
      "text/plain": [
       "       Restaurant ID  Country Code    Longitude     Latitude  \\\n",
       "count   9.551000e+03   9551.000000  9551.000000  9551.000000   \n",
       "mean    9.051128e+06     18.365616    64.126574    25.854381   \n",
       "std     8.791521e+06     56.750546    41.467058    11.007935   \n",
       "min     5.300000e+01      1.000000  -157.948486   -41.330428   \n",
       "25%     3.019625e+05      1.000000    77.081343    28.478713   \n",
       "50%     6.004089e+06      1.000000    77.191964    28.570469   \n",
       "75%     1.835229e+07      1.000000    77.282006    28.642758   \n",
       "max     1.850065e+07    216.000000   174.832089    55.976980   \n",
       "\n",
       "       Average Cost for two  Price range  Aggregate rating         Votes  \n",
       "count           9551.000000  9551.000000       9551.000000   9551.000000  \n",
       "mean            1199.210763     1.804837          2.666370    156.909748  \n",
       "std            16121.183073     0.905609          1.516378    430.169145  \n",
       "min                0.000000     1.000000          0.000000      0.000000  \n",
       "25%              250.000000     1.000000          2.500000      5.000000  \n",
       "50%              400.000000     2.000000          3.200000     31.000000  \n",
       "75%              700.000000     2.000000          3.700000    131.000000  \n",
       "max           800000.000000     4.000000          4.900000  10934.000000  "
      ]
     },
     "execution_count": 11,
     "metadata": {},
     "output_type": "execute_result"
    }
   ],
   "source": [
    "df.describe()"
   ]
  },
  {
   "cell_type": "markdown",
   "id": "8b788fe9-30e7-439a-872c-1eb158ecd3ce",
   "metadata": {},
   "source": [
    "# ***Extraction Data Analysis (EDA)***"
   ]
  },
  {
   "cell_type": "markdown",
   "id": "24dfba50-77e3-4ae9-9770-dedbd617fd8e",
   "metadata": {},
   "source": [
    "# ***Level 1***"
   ]
  },
  {
   "cell_type": "markdown",
   "id": "67ae747f-1b5a-4bcf-b31e-cf5e935d7f51",
   "metadata": {},
   "source": [
    "### ***TASK # 1 (Top Cuisines)***"
   ]
  },
  {
   "cell_type": "markdown",
   "id": "5918255e-1981-48f2-97f9-878e8cf5317c",
   "metadata": {},
   "source": [
    "#### Determine the top three most common cuisines in the dataset?"
   ]
  },
  {
   "cell_type": "code",
   "execution_count": 12,
   "id": "9966163e-645c-4042-ab7a-dd823f61cfd3",
   "metadata": {},
   "outputs": [
    {
     "data": {
      "text/plain": [
       "Index(['Restaurant ID', 'Restaurant Name', 'Country Code', 'City', 'Address',\n",
       "       'Locality', 'Locality Verbose', 'Longitude', 'Latitude', 'Cuisines',\n",
       "       'Average Cost for two', 'Currency', 'Has Table booking',\n",
       "       'Has Online delivery', 'Is delivering now', 'Switch to order menu',\n",
       "       'Price range', 'Aggregate rating', 'Rating color', 'Rating text',\n",
       "       'Votes'],\n",
       "      dtype='object')"
      ]
     },
     "execution_count": 12,
     "metadata": {},
     "output_type": "execute_result"
    }
   ],
   "source": [
    "df.columns"
   ]
  },
  {
   "cell_type": "code",
   "execution_count": 13,
   "id": "1a8f723b-84ac-473a-9491-0666f064c72e",
   "metadata": {},
   "outputs": [
    {
     "data": {
      "text/plain": [
       "count             9551\n",
       "unique            1826\n",
       "top       North Indian\n",
       "freq               936\n",
       "Name: Cuisines, dtype: object"
      ]
     },
     "execution_count": 13,
     "metadata": {},
     "output_type": "execute_result"
    }
   ],
   "source": [
    "df['Cuisines'].describe()"
   ]
  },
  {
   "cell_type": "code",
   "execution_count": 17,
   "id": "93a4f85f-8964-465c-b0e1-5a67c91d7b1a",
   "metadata": {},
   "outputs": [
    {
     "name": "stdout",
     "output_type": "stream",
     "text": [
      "The top three cuisines in the dataset are :\n"
     ]
    },
    {
     "data": {
      "text/plain": [
       "Cuisines\n",
       "North Indian             936\n",
       "North Indian, Chinese    511\n",
       "Fast Food                354\n",
       "Name: count, dtype: int64"
      ]
     },
     "execution_count": 17,
     "metadata": {},
     "output_type": "execute_result"
    }
   ],
   "source": [
    "top_cuisines = df['Cuisines'].value_counts().head(3)\n",
    "print(\"The top three cuisines in the dataset are :\")\n",
    "top_cuisines"
   ]
  },
  {
   "cell_type": "markdown",
   "id": "c91094fe-8924-471e-b80d-9f080c057189",
   "metadata": {},
   "source": [
    "#### Calculate the percentage of restaurants that serve each of the top cuisines."
   ]
  },
  {
   "cell_type": "code",
   "execution_count": 21,
   "id": "b140fd83-59e7-4d7b-a0bf-bb6dd598327d",
   "metadata": {},
   "outputs": [
    {
     "name": "stdout",
     "output_type": "stream",
     "text": [
      "Percentage of restaurants that serve each of the top cuisines are:\n",
      "Cuisines\n",
      "North Indian             9.80%\n",
      "North Indian, Chinese    5.35%\n",
      "Fast Food                3.71%\n",
      "Name: count, dtype: object\n"
     ]
    }
   ],
   "source": [
    "# total number of restaurants in the dataset\n",
    "total_restaurants = len(df)\n",
    "total_restaurants\n",
    "\n",
    "# calculate the % of each of the top cuisines\n",
    "top_cuisines_percentage = (top_cuisines / total_restaurants)*100\n",
    "top_cuisines_percentage = top_cuisines_percentage.apply(lambda x:f\"{x:.2f}%\")\n",
    "print(\"Percentage of restaurants that serve each of the top cuisines are:\")\n",
    "print(top_cuisines_percentage)"
   ]
  },
  {
   "cell_type": "markdown",
   "id": "d652fa19-a8a7-4b20-a13f-65edf8e5717f",
   "metadata": {},
   "source": [
    "### ***Task # 2: City Analysis***"
   ]
  },
  {
   "cell_type": "markdown",
   "id": "d3cd205b-633c-4ef8-9e43-a2962cea13a4",
   "metadata": {},
   "source": [
    "#### Identify the city with the highest number of restaurants in the dataset."
   ]
  },
  {
   "cell_type": "code",
   "execution_count": 27,
   "id": "fcfe2ee0-b730-401d-ae3f-99aa63bf4be3",
   "metadata": {},
   "outputs": [
    {
     "name": "stdout",
     "output_type": "stream",
     "text": [
      "The city with the highest number of restaurants in the dataset is New Delhi with 5473  restaurants.\n"
     ]
    }
   ],
   "source": [
    "# city with higher number of restaurants\n",
    "top_city = df['City'].value_counts().idxmax()\n",
    "top_city\n",
    "\n",
    "# no of restaurants in the city\n",
    "no_restaurants_in_city = df['City'].value_counts().max()\n",
    "no_restaurants_in_city\n",
    "print(f\"The city with the highest number of restaurants in the dataset is {top_city} with {no_restaurants_in_city} restaurants.\")"
   ]
  },
  {
   "cell_type": "markdown",
   "id": "f085b779-0196-41cb-a73b-29dec79d6159",
   "metadata": {},
   "source": [
    "#### Calculate the average rating for restaurants in each city."
   ]
  },
  {
   "cell_type": "code",
   "execution_count": 31,
   "id": "ac6312d5-cfc3-4cf0-b2f7-f5c69b799e76",
   "metadata": {},
   "outputs": [
    {
     "name": "stdout",
     "output_type": "stream",
     "text": [
      "The average rating for restaurants in each city:\n",
      "City\n",
      "??stanbul          4.292857\n",
      "Abu Dhabi          4.300000\n",
      "Agra               3.965000\n",
      "Ahmedabad          4.161905\n",
      "Albany             3.555000\n",
      "                     ...   \n",
      "Waterloo           3.650000\n",
      "Weirton            3.900000\n",
      "Wellington City    4.250000\n",
      "Winchester Bay     3.200000\n",
      "Yorkton            3.300000\n",
      "Name: Aggregate rating, Length: 141, dtype: float64\n"
     ]
    }
   ],
   "source": [
    "# calculate the avg rating for aech city\n",
    "avg_rating_per_city = df.groupby('City')['Aggregate rating'].mean()\n",
    "print(\"The average rating for restaurants in each city:\")\n",
    "print(avg_rating_per_city)"
   ]
  },
  {
   "cell_type": "markdown",
   "id": "ccb05212-f8f6-4c71-81e3-ddb3911e5d6e",
   "metadata": {},
   "source": [
    "#### Determine the city with the highest average rating."
   ]
  },
  {
   "cell_type": "code",
   "execution_count": 35,
   "id": "8016aba4-8fd4-4e8d-b232-f4c3bc1e6011",
   "metadata": {},
   "outputs": [
    {
     "name": "stdout",
     "output_type": "stream",
     "text": [
      "The city with the highest rating of restaurants in the dataset is Inner City with 4.9 restaurants.\n"
     ]
    }
   ],
   "source": [
    "# calculate avg rating for each city\n",
    "avg_rating_per_city = df.groupby('City')['Aggregate rating'].mean()\n",
    "\n",
    "city_with_highest_rating = avg_rating_per_city.idxmax()\n",
    "higest_rating = avg_rating_per_city.max()\n",
    "higest_rating\n",
    "city_with_highest_rating\n",
    "print(f\"The city with the highest rating of restaurants in the dataset is {city_with_highest_rating} with {higest_rating} restaurants.\")"
   ]
  },
  {
   "cell_type": "markdown",
   "id": "8926d185-66ab-498d-b986-72ad8ae848ae",
   "metadata": {},
   "source": [
    "### ***Task # 3: Price Range Distribution***"
   ]
  },
  {
   "cell_type": "markdown",
   "id": "80229c23-26b7-4342-ab13-4c97bc9319e3",
   "metadata": {},
   "source": [
    "#### Create a histogram or bar chart to visualize the distribution of price ranges among the restaurants."
   ]
  },
  {
   "cell_type": "code",
   "execution_count": 39,
   "id": "b51fcfba-7f2f-473c-b60d-3f0e507fd171",
   "metadata": {},
   "outputs": [
    {
     "data": {
      "text/plain": [
       "<function matplotlib.pyplot.show(close=None, block=None)>"
      ]
     },
     "execution_count": 39,
     "metadata": {},
     "output_type": "execute_result"
    },
    {
     "data": {
      "image/png": "[encoded data removed]",
      "text/plain": [
       "<Figure size 1000x600 with 1 Axes>"
      ]
     },
     "metadata": {},
     "output_type": "display_data"
    }
   ],
   "source": [
    "# count of each price range\n",
    "price_range_counts = df['Price range'].value_counts()\n",
    "\n",
    "# Bar Chart\n",
    "plt.figure(figsize=(10,6))\n",
    "price_range_counts.plot(kind='bar', color='skyblue')\n",
    "plt.title(\"Distribution of price ranges among restaurants\")\n",
    "plt.xlabel('Price range')\n",
    "plt.ylabel('No of Restaurants')\n",
    "plt.xticks(rotation=45)\n",
    "plt.show"
   ]
  },
  {
   "cell_type": "markdown",
   "id": "10ebf4c9-5206-4cd5-a722-9bc920a530cc",
   "metadata": {},
   "source": [
    "#### Calculate the percentage of restaurants in each price range category."
   ]
  },
  {
   "cell_type": "code",
   "execution_count": 41,
   "id": "a8e7653e-cfcd-4024-9081-4959143246c2",
   "metadata": {},
   "outputs": [
    {
     "name": "stdout",
     "output_type": "stream",
     "text": [
      "Percentage of restaurants in each price range category\n"
     ]
    },
    {
     "data": {
      "text/plain": [
       "Price range\n",
       "1    46.53%\n",
       "2    32.59%\n",
       "3    14.74%\n",
       "4     6.14%\n",
       "Name: count, dtype: object"
      ]
     },
     "execution_count": 41,
     "metadata": {},
     "output_type": "execute_result"
    }
   ],
   "source": [
    "# count of each price range\n",
    "price_range_counts = df['Price range'].value_counts()\n",
    "\n",
    "# total no of restaurants\n",
    "total_restaurants = len(df)\n",
    "\n",
    "# calculation of % \n",
    "price_range_per = (price_range_counts/total_restaurants)*100\n",
    "price_range_per = price_range_per.apply(lambda x:f\"{x:.2f}%\")\n",
    "print(\"Percentage of restaurants in each price range category\")\n",
    "price_range_per"
   ]
  },
  {
   "cell_type": "markdown",
   "id": "4bcbfedc-ed88-4c34-abd6-ded199bf7f45",
   "metadata": {},
   "source": [
    "### ***Task # 4: Online Delivery***"
   ]
  },
  {
   "cell_type": "markdown",
   "id": "cd889775-026d-4f4f-9779-7206a2201bce",
   "metadata": {},
   "source": [
    "### Determine the percentage of restaurants that offer online delivery."
   ]
  },
  {
   "cell_type": "code",
   "execution_count": 55,
   "id": "fac2853d-d3af-4ffc-81d8-3399e70b30a3",
   "metadata": {},
   "outputs": [
    {
     "name": "stdout",
     "output_type": "stream",
     "text": [
      "percentage of restaurants that offer online delivery 25.66%\n"
     ]
    }
   ],
   "source": [
    "df['Has Online delivery percent'] = df['Has Online delivery'].str.strip().str.lower() == 'yes'\n",
    "df['Has Online delivery percent'] \n",
    "online_delivery_counts = df['Has Online delivery percent'].sum()\n",
    "online_delivery_counts\n",
    "total_restaurants = len(df)\n",
    "\n",
    "# percentage\n",
    "percent_online_delivery =( online_delivery_counts/total_restaurants)*100\n",
    "# percent_online_delivery = percent_online_delivery.apply(lambda x:f\"{x:.2f}%\")\n",
    "print(f\"percentage of restaurants that offer online delivery {percent_online_delivery:.2f}%\")"
   ]
  },
  {
   "cell_type": "markdown",
   "id": "9e408ba7-64db-4092-bcbc-18b415807b78",
   "metadata": {},
   "source": [
    "#### Compare the average ratings of restaurants with and without online delivery."
   ]
  },
  {
   "cell_type": "code",
   "execution_count": 56,
   "id": "9ba69703-6e59-448e-a4c2-e9e25d0bee36",
   "metadata": {},
   "outputs": [
    {
     "data": {
      "image/png": "[encoded data removed]",
      "text/plain": [
       "<Figure size 640x480 with 1 Axes>"
      ]
     },
     "metadata": {},
     "output_type": "display_data"
    }
   ],
   "source": [
    "sns.barplot(x='Has Online delivery', y='Aggregate rating', data=df)\n",
    "plt.title('Average Rating of Restaurants with and without Online Delivery')\n",
    "plt.xlabel('Has Online delivery')\n",
    "plt.ylabel('Average Aggregate rating')\n",
    "plt.show()"
   ]
  },
  {
   "cell_type": "markdown",
   "id": "548505ee-e184-41be-a690-780bf20d1bd1",
   "metadata": {},
   "source": [
    "# ***Level 2***"
   ]
  },
  {
   "cell_type": "markdown",
   "id": "8f77499d-6aa3-4f1f-a9ef-f7e5b34d4757",
   "metadata": {},
   "source": [
    "### ***Task 1 (Restaurant Ratings)***"
   ]
  },
  {
   "cell_type": "markdown",
   "id": "8a340967-e946-443c-b8b0-0cd2d269a7c2",
   "metadata": {},
   "source": [
    "#### Analyze the distribution of aggregate ratings and determine the most common rating range."
   ]
  },
  {
   "cell_type": "code",
   "execution_count": 61,
   "id": "6bb2c6b7-e0f3-4593-979b-2f32f0fc8273",
   "metadata": {},
   "outputs": [
    {
     "data": {
      "image/png": "[encoded data removed]",
      "text/plain": [
       "<Figure size 1000x600 with 1 Axes>"
      ]
     },
     "metadata": {},
     "output_type": "display_data"
    }
   ],
   "source": [
    "plt.figure(figsize=(10,6))\n",
    "sns.histplot(df['Aggregate rating'], bins= 10 , kde=True ,color= 'skyblue')\n",
    "plt.title('Distribution of Aggregate rating')\n",
    "plt.xlabel('Aggregate rating')\n",
    "plt.ylabel(\"Frequency\")\n",
    "plt.show()"
   ]
  },
  {
   "cell_type": "code",
   "execution_count": 64,
   "id": "1c1d6915-b007-45ef-a4f5-89231a41bbb3",
   "metadata": {},
   "outputs": [
    {
     "name": "stdout",
     "output_type": "stream",
     "text": [
      "The most common rating range is (3.0, 4.0] \n"
     ]
    }
   ],
   "source": [
    "df['Rating Range'] = pd.cut(df['Aggregate rating'],bins=[0,1,2,3,4,5], include_lowest=True)\n",
    "most_common_rating_range =  df['Rating Range'].mode()[0]\n",
    "print(f\"The most common rating range is {most_common_rating_range} \")"
   ]
  },
  {
   "cell_type": "markdown",
   "id": "47ac9a59-efe7-46b1-bada-3b8ee8376dd4",
   "metadata": {},
   "source": [
    "#### Calculate the average number of votes received by restaurants."
   ]
  },
  {
   "cell_type": "code",
   "execution_count": 66,
   "id": "9478a9ba-eac9-4baf-b764-725169a8e76e",
   "metadata": {},
   "outputs": [
    {
     "name": "stdout",
     "output_type": "stream",
     "text": [
      "the average number of votes received by restaurants is 156.91\n"
     ]
    }
   ],
   "source": [
    "avg_votes = df['Votes'].mean()\n",
    "avg_votes\n",
    "print(f\"the average number of votes received by restaurants is {avg_votes:.2f}\")"
   ]
  },
  {
   "cell_type": "markdown",
   "id": "a2962119-e546-48c0-9ee0-bc516b7df42a",
   "metadata": {},
   "source": [
    "### ***Task#2 Cuisine Combination***"
   ]
  },
  {
   "cell_type": "markdown",
   "id": "81a38440-90e4-4347-a3e9-b8db5dc1024f",
   "metadata": {},
   "source": [
    "#### Identify the most common combinations of cuisines in the dataset."
   ]
  },
  {
   "cell_type": "code",
   "execution_count": 69,
   "id": "2e309b2a-ad14-4557-8e65-26dde8091443",
   "metadata": {},
   "outputs": [
    {
     "name": "stdout",
     "output_type": "stream",
     "text": [
      "The top most common combinations cuisines in the dataset are :\n"
     ]
    },
    {
     "data": {
      "text/plain": [
       "Cuisines\n",
       "North Indian             936\n",
       "North Indian, Chinese    511\n",
       "Fast Food                354\n",
       "Chinese                  354\n",
       "North Indian, Mughlai    334\n",
       "Name: count, dtype: int64"
      ]
     },
     "execution_count": 69,
     "metadata": {},
     "output_type": "execute_result"
    }
   ],
   "source": [
    "top_cuisines = df['Cuisines'].value_counts().head(5)\n",
    "print(\"The top most common combinations cuisines in the dataset are :\")\n",
    "top_cuisines"
   ]
  },
  {
   "cell_type": "markdown",
   "id": "b78bd7bd-c388-44be-8e60-0f2871b2d56a",
   "metadata": {},
   "source": [
    "#### Determine if certain cuisine combinations tend to have higher ratings"
   ]
  },
  {
   "cell_type": "code",
   "execution_count": 75,
   "id": "8245a216-3dc4-4ea3-a357-26c763ca886c",
   "metadata": {},
   "outputs": [
    {
     "name": "stdout",
     "output_type": "stream",
     "text": [
      "cuisine combinations of higher ratings are:\n",
      "                          Cuisines  Aggregate rating\n",
      "1062                 Italian, Deli               4.9\n",
      "41        American, Coffee and Tea               4.9\n",
      "13         American, BBQ, Sandwich               4.9\n",
      "169       BBQ, Breakfast, Southern               4.9\n",
      "1034  Italian, Bakery, Continental               4.9\n"
     ]
    }
   ],
   "source": [
    "cuisines_rating = df.groupby('Cuisines')['Aggregate rating'].mean().reset_index()\n",
    "cuisines_rating = cuisines_rating.sort_values(by='Aggregate rating', ascending=False)\n",
    "top_cuisines_rating = cuisines_rating.head(5)\n",
    "print(\"cuisine combinations of higher ratings are:\")\n",
    "print(top_cuisines_rating)"
   ]
  },
  {
   "cell_type": "markdown",
   "id": "ad060d26-e2d9-4ca5-98d7-45a528423886",
   "metadata": {},
   "source": [
    "### ***Task# 4 (Restaurant Chains)***"
   ]
  },
  {
   "cell_type": "markdown",
   "id": "fff24876-2ed6-4ef4-8511-ca3560b1b8b1",
   "metadata": {},
   "source": [
    "#### Identify if there are any restaurant chains present in the dataset."
   ]
  },
  {
   "cell_type": "code",
   "execution_count": 77,
   "id": "af37a845-bbc2-4ea5-bfa0-370d0085aee9",
   "metadata": {},
   "outputs": [
    {
     "name": "stdout",
     "output_type": "stream",
     "text": [
      "Restaurant chains present in the dataset are:\n",
      "Restaurant Name\n",
      "Cafe Coffee Day     83\n",
      "Domino's Pizza      79\n",
      "Subway              63\n",
      "Green Chick Chop    51\n",
      "McDonald's          48\n",
      "Keventers           34\n",
      "Pizza Hut           30\n",
      "Giani               29\n",
      "Baskin Robbins      28\n",
      "Barbeque Nation     26\n",
      "Name: count, dtype: int64\n"
     ]
    }
   ],
   "source": [
    "restaurants_counts = df['Restaurant Name'].value_counts()\n",
    "chains = restaurants_counts[restaurants_counts>1].head(10)\n",
    "print(\"Restaurant chains present in the dataset are:\")\n",
    "print(chains)"
   ]
  },
  {
   "cell_type": "markdown",
   "id": "6b4f63eb-67c0-4e05-bc6b-32581d39a55f",
   "metadata": {},
   "source": [
    "#### Analyze the ratings and popularity of different restaurant chains."
   ]
  },
  {
   "cell_type": "code",
   "execution_count": 67,
   "id": "1fcdd7c4-a522-493c-aa8f-538896486f69",
   "metadata": {},
   "outputs": [
    {
     "data": {
      "text/plain": [
       "Index(['Restaurant ID', 'Restaurant Name', 'Country Code', 'City', 'Address',\n",
       "       'Locality', 'Locality Verbose', 'Longitude', 'Latitude', 'Cuisines',\n",
       "       'Average Cost for two', 'Currency', 'Has Table booking',\n",
       "       'Has Online delivery', 'Is delivering now', 'Switch to order menu',\n",
       "       'Price range', 'Aggregate rating', 'Rating color', 'Rating text',\n",
       "       'Votes', 'Has Online delivery percent', 'Rating Range'],\n",
       "      dtype='object')"
      ]
     },
     "execution_count": 67,
     "metadata": {},
     "output_type": "execute_result"
    }
   ],
   "source": [
    "df.columns"
   ]
  },
  {
   "cell_type": "code",
   "execution_count": 83,
   "id": "334e8cdc-2583-4a42-b041-893c36cacd99",
   "metadata": {},
   "outputs": [
    {
     "name": "stdout",
     "output_type": "stream",
     "text": [
      "Ratings and popularity of different restaurant chains are:\n",
      "               Restaurant Name  Aggregate rating   Votes\n",
      "629           Talaga Sampireun             4.900  1838.0\n",
      "8      AB's Absolute Barbecues             4.850  1575.5\n",
      "589           Silantro Fil-Mex             4.850   682.0\n",
      "7    AB's - Absolute Barbecues             4.825  3350.0\n",
      "449         Naturals Ice Cream             4.800  1547.0\n",
      "293                   Gymkhana             4.700   164.0\n",
      "653     The Cheesecake Factory             4.650  1505.0\n",
      "220                    Dishoom             4.600   634.5\n",
      "267          Garota de Ipanema             4.600    29.5\n",
      "163                    Chili's             4.580  1631.2\n"
     ]
    }
   ],
   "source": [
    "restaurants_counts = df['Restaurant Name'].value_counts()\n",
    "chains = restaurants_counts[restaurants_counts>1].index\n",
    "\n",
    "chains_df = df[df['Restaurant Name'].isin(chains)]\n",
    "chains_ratings_votes = chains_df.groupby('Restaurant Name').agg({'Aggregate rating':'mean','Votes':'mean'}).reset_index()\n",
    "chains_ratings_votes = chains_ratings_votes.sort_values(by=['Aggregate rating','Votes'],ascending =False)\n",
    "print(\"Ratings and popularity of different restaurant chains are:\")\n",
    "print(chains_ratings_votes.head(10))"
   ]
  },
  {
   "cell_type": "markdown",
   "id": "c16d35ec-6cd9-4158-aa9f-a487330f2056",
   "metadata": {},
   "source": [
    "# ***Level 3***"
   ]
  },
  {
   "cell_type": "markdown",
   "id": "91d8c0ec-d395-4f94-afb0-da6c38b46118",
   "metadata": {},
   "source": [
    "### ***Task#1 Restaurant Reviews***"
   ]
  },
  {
   "cell_type": "markdown",
   "id": "3953958a-40e0-4872-84a2-90aa8c44f0e5",
   "metadata": {},
   "source": [
    "#### Analyze the text reviews to identify the most common positive and negative keywords"
   ]
  },
  {
   "cell_type": "code",
   "execution_count": 85,
   "id": "e0373735-c7e1-48cf-b529-0a2f62a78ed2",
   "metadata": {},
   "outputs": [
    {
     "data": {
      "text/plain": [
       "Rating text\n",
       "Average      3737\n",
       "Not rated    2148\n",
       "Good         2100\n",
       "Very Good    1079\n",
       "Excellent     301\n",
       "Poor          186\n",
       "Name: count, dtype: int64"
      ]
     },
     "execution_count": 85,
     "metadata": {},
     "output_type": "execute_result"
    }
   ],
   "source": [
    "rating_counts = df['Rating text'].value_counts()\n",
    "rating_counts"
   ]
  },
  {
   "cell_type": "code",
   "execution_count": 86,
   "id": "53b98c82-3695-4798-af98-eb0237bac8a0",
   "metadata": {},
   "outputs": [
    {
     "data": {
      "image/png": "[encoded data removed]",
      "text/plain": [
       "<Figure size 800x500 with 1 Axes>"
      ]
     },
     "metadata": {},
     "output_type": "display_data"
    }
   ],
   "source": [
    "plt.figure(figsize=(8,5))\n",
    "sns.barplot(x=rating_counts.index, y=rating_counts.values, hue= rating_counts.index, palette='viridis',legend=False)\n",
    "plt.title(\"Distribution of rating texts\")\n",
    "plt.xlabel(\"Rating Text\")\n",
    "plt.ylabel(\"Count\")\n",
    "plt.xticks(rotation= 45)\n",
    "plt.show()"
   ]
  },
  {
   "cell_type": "markdown",
   "id": "77433f4e-f485-40c1-b179-921cecbc2b0f",
   "metadata": {},
   "source": [
    "#### Calculate the average length of reviews and explore if there is a relationship between review length and rating."
   ]
  },
  {
   "cell_type": "code",
   "execution_count": 91,
   "id": "22ade5a7-ffec-4097-a3a9-a93cb3b01ae5",
   "metadata": {},
   "outputs": [
    {
     "name": "stdout",
     "output_type": "stream",
     "text": [
      "The avg length is : 1.34 words.\n"
     ]
    }
   ],
   "source": [
    "df['Rating length'] = df['Rating text'].apply(lambda x: len(str(x).split()))\n",
    "avg_review_length = df['Rating length'].mean()\n",
    "print(f\"The avg length is : {avg_review_length:.2f} words.\")\n"
   ]
  },
  {
   "cell_type": "code",
   "execution_count": 94,
   "id": "5a9269b9-9d23-4bae-8826-cc1fc67996c7",
   "metadata": {},
   "outputs": [
    {
     "data": {
      "image/png": "[encoded data removed]",
      "text/plain": [
       "<Figure size 1000x600 with 1 Axes>"
      ]
     },
     "metadata": {},
     "output_type": "display_data"
    }
   ],
   "source": [
    "plt.figure(figsize=(10,6))\n",
    "sns.scatterplot(x='Aggregate rating',y='Rating length',data=df,hue='Rating text',palette='coolwarm',legend=False)\n",
    "plt.title(\"Review length vs Aggregate Rating\")\n",
    "plt.xlabel('Aggregate rating')\n",
    "plt.ylabel(\"Review Length \")\n",
    "plt.show()"
   ]
  },
  {
   "cell_type": "markdown",
   "id": "6d0148a0-1194-404e-a5e2-09ac04ddb719",
   "metadata": {},
   "source": [
    "### ***Task#2 Votes Analysis***"
   ]
  },
  {
   "cell_type": "markdown",
   "id": "4ef7a5f6-452b-48b7-900e-1222dc1ad920",
   "metadata": {},
   "source": [
    "#### Identify the restaurants with the highest and lowest number of votes"
   ]
  },
  {
   "cell_type": "code",
   "execution_count": 104,
   "id": "6703b34b-304a-443a-b9bd-aa0926692d8d",
   "metadata": {},
   "outputs": [
    {
     "name": "stdout",
     "output_type": "stream",
     "text": [
      "Restaurant with highest no of votes:\n",
      "Restaurant Name     Toit\n",
      "Votes              10934\n",
      "Name: 728, dtype: object\n",
      "\n",
      "Restaurant with lowest no of votes:\n",
      "Restaurant Name    Do Bhai Paneer Wale And Sweets\n",
      "Votes                                           0\n",
      "Name: 5736, dtype: object\n"
     ]
    }
   ],
   "source": [
    "sorted_df = df.sort_values(by='Votes', ascending=False)\n",
    "\n",
    "higest_votes = sorted_df.iloc[0]\n",
    "lowest_votes = sorted_df.iloc[-1]\n",
    "\n",
    "print(\"Restaurant with highest no of votes:\")\n",
    "print(higest_votes[['Restaurant Name','Votes']])\n",
    "\n",
    "print(\"\\nRestaurant with lowest no of votes:\")\n",
    "print(lowest_votes[['Restaurant Name','Votes']])"
   ]
  },
  {
   "cell_type": "markdown",
   "id": "5973fe4e-bf3e-45c5-8a1a-b1cbbc8fe6c2",
   "metadata": {},
   "source": [
    "#### Analyze if there is a correlation between the number of votes and the rating of a restaurant."
   ]
  },
  {
   "cell_type": "code",
   "execution_count": 107,
   "id": "de203d5d-27d3-408f-bb19-9d9741f2e680",
   "metadata": {},
   "outputs": [
    {
     "data": {
      "text/plain": [
       "array(['Excellent', 'Very Good', 'Good', 'Average', 'Not rated', 'Poor'],\n",
       "      dtype=object)"
      ]
     },
     "execution_count": 107,
     "metadata": {},
     "output_type": "execute_result"
    }
   ],
   "source": [
    "df['Rating text'].unique()"
   ]
  },
  {
   "cell_type": "code",
   "execution_count": 110,
   "id": "41ca0862-a459-4f20-b509-1a84e18171f9",
   "metadata": {},
   "outputs": [
    {
     "data": {
      "text/plain": [
       "array([5, 4, 3, 2, 0, 1])"
      ]
     },
     "execution_count": 110,
     "metadata": {},
     "output_type": "execute_result"
    }
   ],
   "source": [
    "rating_mapping = {\n",
    "    'Not rated':0,\n",
    "    'Poor':1,\n",
    "    'Average':2,\n",
    "    'Good':3,\n",
    "    'Very Good':4,\n",
    "    'Excellent':5\n",
    "}\n",
    "\n",
    "df['Rating numeric'] = df['Rating text'].map(rating_mapping)\n",
    "df['Rating numeric'].unique()"
   ]
  },
  {
   "cell_type": "code",
   "execution_count": 113,
   "id": "9e89b5a6-6ab6-4b6d-a2b5-501a210424c7",
   "metadata": {},
   "outputs": [
    {
     "name": "stdout",
     "output_type": "stream",
     "text": [
      "Correlation between the number of votes and the rating of a restaurant is 0.40\n"
     ]
    }
   ],
   "source": [
    "correlation = df[['Rating numeric','Votes']].corr().iloc[0,1]\n",
    "print(f\"Correlation between the number of votes and the rating of a restaurant is {correlation:.2f}\")\n"
   ]
  },
  {
   "cell_type": "code",
   "execution_count": 115,
   "id": "3148eeed-56be-4a0c-8eeb-6c13d0af71f6",
   "metadata": {},
   "outputs": [
    {
     "data": {
      "image/png": "[encoded data removed]",
      "text/plain": [
       "<Figure size 1000x600 with 1 Axes>"
      ]
     },
     "metadata": {},
     "output_type": "display_data"
    }
   ],
   "source": [
    "plt.figure(figsize=(10,6))\n",
    "sns.scatterplot(x='Votes',y=\"Rating numeric\",data=df)\n",
    "plt.title(\"Votes vs Rating\")\n",
    "plt.xlabel(\"Number of Votes\")\n",
    "plt.ylabel(\"Numeric Rating\")\n",
    "plt.show()"
   ]
  },
  {
   "cell_type": "markdown",
   "id": "3fff25b3-6e03-4d70-b0a0-bd5125be3dd5",
   "metadata": {},
   "source": [
    "### ***Task#3 Price Range vs. Online Delivery and Table Booking***"
   ]
  },
  {
   "cell_type": "markdown",
   "id": "a44dfa5d-e658-4b58-9703-0da581f597a6",
   "metadata": {},
   "source": [
    "#### Analyze if there is a relationship between the price range and the availability of online delivery and table booking."
   ]
  },
  {
   "cell_type": "code",
   "execution_count": 121,
   "id": "6540b716-c7cd-4ce0-a616-66a735b58669",
   "metadata": {},
   "outputs": [
    {
     "data": {
      "image/png": "[encoded data removed]",
      "text/plain": [
       "<Figure size 1400x600 with 2 Axes>"
      ]
     },
     "metadata": {},
     "output_type": "display_data"
    }
   ],
   "source": [
    "plt.figure(figsize=(14,6))\n",
    "\n",
    "plt.subplot(1,2,1)\n",
    "sns.barplot(x='Price range' ,y='Votes' ,data=df , hue='Has Online delivery', palette='Set1')\n",
    "plt.title(\"Average Online Delivery by Price Range\")\n",
    "plt.xlabel('Price range')\n",
    "plt.ylabel(\"Average Availability\")\n",
    "\n",
    "plt.subplot(1,2,2)\n",
    "sns.barplot(x='Price range' ,y='Votes' ,data=df , hue='Has Table booking', palette='Set1')\n",
    "plt.title(\"Average Table booking by Price Range\")\n",
    "plt.xlabel('Price range')\n",
    "plt.ylabel(\"Average Availability\")\n",
    "\n",
    "plt.show()"
   ]
  },
  {
   "cell_type": "markdown",
   "id": "ad0d3183-ede2-47c4-a08e-8a21445de8ee",
   "metadata": {},
   "source": [
    "#### Determine if higher-priced restaurants are more likely to offer these services."
   ]
  },
  {
   "cell_type": "code",
   "execution_count": 126,
   "id": "8bdd0ffa-c552-4db7-91ae-e19e546ae5d1",
   "metadata": {},
   "outputs": [
    {
     "name": "stdout",
     "output_type": "stream",
     "text": [
      "[3 4 2 1]\n",
      "['No' 'Yes']\n",
      "['Yes' 'No']\n"
     ]
    }
   ],
   "source": [
    "print(df['Price range'].unique())\n",
    "print(df['Has Online delivery'].unique())\n",
    "print(df['Has Table booking'].unique())"
   ]
  },
  {
   "cell_type": "code",
   "execution_count": 124,
   "id": "5dab8cee-5c5e-46ed-8be6-d1665f20f95a",
   "metadata": {},
   "outputs": [
    {
     "data": {
      "text/plain": [
       "Price range\n",
       "1    4444\n",
       "2    3113\n",
       "3    1408\n",
       "4     586\n",
       "Name: count, dtype: int64"
      ]
     },
     "execution_count": 124,
     "metadata": {},
     "output_type": "execute_result"
    }
   ],
   "source": [
    "df['Price range'].value_counts()"
   ]
  },
  {
   "cell_type": "code",
   "execution_count": 128,
   "id": "aa226a38-e69b-4bde-9406-fe8c2e84ddbe",
   "metadata": {},
   "outputs": [
    {
     "data": {
      "image/png": "[encoded data removed]",
      "text/plain": [
       "<Figure size 1000x500 with 2 Axes>"
      ]
     },
     "metadata": {},
     "output_type": "display_data"
    }
   ],
   "source": [
    "fig, axes = plt.subplots(1,2,figsize=(10,5))\n",
    "\n",
    "# FOR ONLINE DELIVERY\n",
    "sns.countplot(x='Price range' , hue='Has Online delivery', data=df, ax=axes[0], palette='viridis')\n",
    "axes[0].set_title('Price Range vs Online Delivery')\n",
    "axes[0].set_xlabel('Price Range')\n",
    "axes[0].set_ylabel('Counts')\n",
    "axes[0].legend(title='Online Delivery', labels=['No','Yes'])\n",
    "\n",
    "# FOR TABLE BOOKING\n",
    "sns.countplot(x='Price range' , hue='Has Table booking', data=df, ax=axes[1], palette='viridis')\n",
    "axes[0].set_title('Price Range vs Table booking')\n",
    "axes[0].set_xlabel('Price Range')\n",
    "axes[0].set_ylabel('Counts')\n",
    "axes[0].legend(title='Online Delivery', labels=['No','Yes'])\n",
    "\n",
    "plt.tight_layout()\n",
    "plt.show()"
   ]
  },
  {
   "cell_type": "code",
   "execution_count": null,
   "id": "41667193-f737-4f53-8b27-5d64ac1a8608",
   "metadata": {},
   "outputs": [],
   "source": []
  },
  {
   "cell_type": "code",
   "execution_count": null,
   "id": "95fe5aa0-33e7-4125-be48-565b1e8f6036",
   "metadata": {},
   "outputs": [],
   "source": []
  },
  {
   "cell_type": "code",
   "execution_count": null,
   "id": "1657b1df-2762-4dd7-9d27-f04f4fbff576",
   "metadata": {},
   "outputs": [],
   "source": []
  }
 ],
 "metadata": {
  "kernelspec": {
   "display_name": "Python 3 (ipykernel)",
   "language": "python",
   "name": "python3"
  },
  "language_info": {
   "codemirror_mode": {
    "name": "ipython",
    "version": 3
   },
   "file_extension": ".py",
   "mimetype": "text/x-python",
   "name": "python",
   "nbconvert_exporter": "python",
   "pygments_lexer": "ipython3",
   "version": "3.12.5"
  }
 },
 "nbformat": 4,
 "nbformat_minor": 5
}
